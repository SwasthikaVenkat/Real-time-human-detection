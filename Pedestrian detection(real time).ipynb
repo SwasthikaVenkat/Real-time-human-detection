{
 "cells": [
  {
   "cell_type": "code",
   "execution_count": 1,
   "id": "98b95742",
   "metadata": {
    "scrolled": true
   },
   "outputs": [
    {
     "name": "stdout",
     "output_type": "stream",
     "text": [
      "Requirement already satisfied: imutils in c:\\users\\hp\\anaconda3\\lib\\site-packages (0.5.4)\n",
      "Note: you may need to restart the kernel to use updated packages.\n"
     ]
    },
    {
     "name": "stderr",
     "output_type": "stream",
     "text": [
      "\n",
      "[notice] A new release of pip available: 22.3 -> 22.3.1\n",
      "[notice] To update, run: python.exe -m pip install --upgrade pip\n"
     ]
    }
   ],
   "source": [
    "pip install --upgrade imutils"
   ]
  },
  {
   "cell_type": "markdown",
   "id": "e865091b",
   "metadata": {},
   "source": [
    "## For image detection"
   ]
  },
  {
   "cell_type": "code",
   "execution_count": 2,
   "id": "22440c2c",
   "metadata": {},
   "outputs": [],
   "source": [
    "import cv2\n",
    "import imutils\n",
    "   \n",
    "# Initializing the HOG person\n",
    "# detector\n",
    "hog = cv2.HOGDescriptor()\n",
    "hog.setSVMDetector(cv2.HOGDescriptor_getDefaultPeopleDetector())\n",
    "   \n",
    "# Reading the Image\n",
    "image = cv2.imread('download.jpg')\n",
    "   \n",
    "# Resizing the Image\n",
    "image = imutils.resize(image,\n",
    "                       width=min(400, image.shape[1]))\n",
    "   \n",
    "# Detecting all the regions in the \n",
    "# Image that has a pedestrians inside it\n",
    "(regions, _) = hog.detectMultiScale(image, \n",
    "                                    winStride=(4, 4),\n",
    "                                    padding=(4, 4),\n",
    "                                    scale=1.05)\n",
    "   \n",
    "# Drawing the regions in the Image\n",
    "for (x, y, w, h) in regions:\n",
    "    cv2.rectangle(image, (x, y), \n",
    "                  (x + w, y + h), \n",
    "                  (0, 0, 255), 2)\n",
    "\n",
    "  \n",
    "  \n",
    "\n",
    "    cv2.imshow(\"Image\", image)\n",
    "cv2.waitKey(0)\n",
    "   \n",
    "cv2.destroyAllWindows()"
   ]
  },
  {
   "cell_type": "code",
   "execution_count": 5,
   "id": "dccd2429",
   "metadata": {},
   "outputs": [
    {
     "data": {
      "text/plain": [
       "'4.6.0'"
      ]
     },
     "execution_count": 5,
     "metadata": {},
     "output_type": "execute_result"
    }
   ],
   "source": [
    "import cv2\n",
    "cv2.__version__"
   ]
  },
  {
   "cell_type": "code",
   "execution_count": 8,
   "id": "5e888c36",
   "metadata": {
    "scrolled": true
   },
   "outputs": [
    {
     "name": "stdout",
     "output_type": "stream",
     "text": [
      "Name: numpy\n",
      "Version: 1.21.5\n",
      "Summary: NumPy is the fundamental package for array computing with Python.\n",
      "Home-page: https://www.numpy.org\n",
      "Author: Travis E. Oliphant et al.\n",
      "Author-email: \n",
      "License: BSD\n",
      "Location: c:\\users\\hp\\anaconda3\\lib\\site-packages\n",
      "Requires: \n",
      "Required-by: altair, astropy, bkcharts, bokeh, Bottleneck, category-encoders, cvzone, daal4py, datashader, datashape, deepface, gensim, h5py, holoviews, hvplot, imagecodecs, imageio, Keras-Preprocessing, matplotlib, mediapipe, mkl-fft, mkl-random, numba, numexpr, opencv-contrib-python, opencv-python, opt-einsum, pandas, patsy, pyarrow, pydeck, pyerfa, PyWavelets, retina-face, scikit-image, scikit-learn, scipy, seaborn, statsmodels, streamlit, tables, tensorboard, tensorflow, tifffile, wordcloud, xarray\n",
      "Note: you may need to restart the kernel to use updated packages.\n"
     ]
    }
   ],
   "source": [
    "pip show numpy"
   ]
  },
  {
   "cell_type": "code",
   "execution_count": 9,
   "id": "36868f7b",
   "metadata": {},
   "outputs": [
    {
     "name": "stdout",
     "output_type": "stream",
     "text": [
      "Name: matplotlib\n",
      "Version: 3.5.1\n",
      "Summary: Python plotting package\n",
      "Home-page: https://matplotlib.org\n",
      "Author: John D. Hunter, Michael Droettboom\n",
      "Author-email: matplotlib-users@python.org\n",
      "License: PSF\n",
      "Location: c:\\users\\hp\\anaconda3\\lib\\site-packages\n",
      "Requires: cycler, fonttools, kiwisolver, numpy, packaging, pillow, pyparsing, python-dateutil\n",
      "Required-by: fer, mediapipe, seaborn, wordcloud\n",
      "Note: you may need to restart the kernel to use updated packages.\n"
     ]
    }
   ],
   "source": [
    "pip show matplotlib"
   ]
  },
  {
   "cell_type": "markdown",
   "id": "114ec591",
   "metadata": {},
   "source": [
    "## Real time detection"
   ]
  },
  {
   "cell_type": "code",
   "execution_count": 4,
   "id": "e8f0b9c0",
   "metadata": {},
   "outputs": [
    {
     "name": "stdout",
     "output_type": "stream",
     "text": [
      "camera opened\n"
     ]
    }
   ],
   "source": [
    "import numpy as np\n",
    "import cv2\n",
    "import winsound\n",
    "frequency = 2500\n",
    "duration = 1500\n",
    "# Create our upperbody classifier\n",
    "upperbody_classifier = cv2.CascadeClassifier('haarcascade_upperbody.xml')\n",
    "font=cv2.FONT_HERSHEY_SIMPLEX\n",
    "\n",
    "cap=cv2.VideoCapture(1)\n",
    "if not cap.isOpened():\n",
    "    cap=cv2.VideoCapture(0)\n",
    "if not cap.isOpened():\n",
    "    raise IOError(\"Cannot open webcam\")\n",
    "print(\"camera opened\")\n",
    "while True:\n",
    "    ret, frame=cap.read()\n",
    "    gray = cv2.cvtColor(frame, cv2.COLOR_BGR2GRAY)\n",
    "    \n",
    "    upperbodies = upperbody_classifier.detectMultiScale(gray, 1.1, 4)\n",
    "    \n",
    "    \n",
    "\n",
    "    # Extract bounding boxes for any bodies identified\n",
    "    for (x,y,w,h) in upperbodies:\n",
    "        cv2.rectangle(frame, (x, y), (x+w, y+h), (0, 255, 255), 2)\n",
    "       \n",
    "        cv2.putText(frame, \n",
    "                'HUMAN DETECTED', \n",
    "                (50, 50), \n",
    "                font, 1, \n",
    "                (0, 255, 255), \n",
    "                2, \n",
    "                cv2.LINE_4) \n",
    "        winsound.Beep(frequency, duration)\n",
    "    cv2.imshow('Pedestrians', frame)\n",
    "    \n",
    "    \n",
    "    if cv2.waitKey(2) & 0xFF == ord('q'):\n",
    "        break\n",
    "cap.release()\n",
    "cv2.destroyAllWindows()\n",
    "\n",
    "\n",
    "\n",
    "\n"
   ]
  },
  {
   "cell_type": "code",
   "execution_count": null,
   "id": "83ce5b0b",
   "metadata": {},
   "outputs": [],
   "source": []
  },
  {
   "cell_type": "code",
   "execution_count": null,
   "id": "082b269a",
   "metadata": {},
   "outputs": [],
   "source": []
  }
 ],
 "metadata": {
  "kernelspec": {
   "display_name": "Python 3 (ipykernel)",
   "language": "python",
   "name": "python3"
  },
  "language_info": {
   "codemirror_mode": {
    "name": "ipython",
    "version": 3
   },
   "file_extension": ".py",
   "mimetype": "text/x-python",
   "name": "python",
   "nbconvert_exporter": "python",
   "pygments_lexer": "ipython3",
   "version": "3.9.12"
  }
 },
 "nbformat": 4,
 "nbformat_minor": 5
}
